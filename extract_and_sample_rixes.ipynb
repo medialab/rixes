{
 "cells": [
  {
   "cell_type": "markdown",
   "metadata": {},
   "source": [
    "## Commandes bash / xan utilisées pour filtrer le corpus : extraire les rixes relatives aux italiens et aux belges\n",
    "\n",
    "Afin de pouvoir rechercher des événements à caractère xénophobe ayant eu lieu en France et impliquant des italiens et/ou des belges, nous avons filtré les données du corpus à partir des mots clés \"rixe\" et des mots clés relatifs à la nationalité des individus :\n",
    "\n",
    "### Pour les italiens\n",
    "* \"italien\"\n",
    "* \"rital\"\n",
    "* \"macaroni\"\n",
    "* \"piemontais\"\n",
    "* \"genois\"\n",
    "* \"calabrais\"\n",
    "\n",
    "### Pour les belges\n",
    "* \"belge\""
   ]
  },
  {
   "cell_type": "markdown",
   "metadata": {},
   "source": [
    "## Etape 1 : extraire les textes contenant les mots clés de nationalité et \"rixe\""
   ]
  },
  {
   "cell_type": "markdown",
   "metadata": {},
   "source": [
    "Prérequis : créer un fichier patterns.csv contenant les expréssions régulières qui vont nous permettre d'accéder aux mots clés dans le texte océrisé.\n",
    "\n",
    "On a utilisé :\n",
    "* \\britals?\\b\n",
    "* \\bpi[eé]montais?\\b\n",
    "* \\bmacaroni?\\b\n",
    "* \\bgenois\\b\n",
    "* \\bcalabrais\\b\n",
    "* \\bitaliens?\\b\n",
    "* \\bbelges?\\b"
   ]
  },
  {
   "cell_type": "code",
   "execution_count": null,
   "metadata": {
    "vscode": {
     "languageId": "shellscript"
    }
   },
   "outputs": [],
   "source": [
    "# Extraire les extraits dans lesquels apparaissent les mots : italien, belge, génois, piémontais, calabrais, macaroni et rital en cooccurrence avec rixe\n",
    "\n",
    "for i in $(seq 1870 1914); do # Exécuter la boucle pour chaque dossier année\n",
    "    PRESSE=\"/home/lilla/retronews/${i}/ocr.csv.gz\"; # Variable fichiers OCR\n",
    "    METADONNEES=\"/home/lilla/retronews/${i}/docs.csv\"; # Variable fichiers métadonnées\n",
    "    xan map $i year $PRESSE | \\ \n",
    "    xan map 'concat(year, document_id, article_id, block_id)' uniqueid |\\\n",
    "    xan search -s text -ri \"rixe\" |\\\n",
    "    xan regex-join text - pattern patterns.csv -t 8 | \\\n",
    "    xan implode pattern -P --cmp uniqueid | \\\n",
    "    xan join document_id  - document_id $METADONNEES --left >> matches.csv\n",
    "    done \n",
    "    # Une colonne uniqueid est créée à partir des colonnes year, document_id, article_id et block_id du fichier de métadonnées.\n",
    "    # On récupère les extraits où le mot rixe apparaît puis on filtre avec les mots désignant des italiens ou des belges."
   ]
  },
  {
   "cell_type": "markdown",
   "metadata": {},
   "source": [
    "Pour vérifier combien de lignes on a au total :"
   ]
  },
  {
   "cell_type": "code",
   "execution_count": null,
   "metadata": {
    "vscode": {
     "languageId": "shellscript"
    }
   },
   "outputs": [],
   "source": [
    "xan count matches.csv"
   ]
  },
  {
   "cell_type": "markdown",
   "metadata": {},
   "source": [
    "Pour visualiser le fichier de sortie dans un pager :"
   ]
  },
  {
   "cell_type": "code",
   "execution_count": null,
   "metadata": {
    "vscode": {
     "languageId": "shellscript"
    }
   },
   "outputs": [],
   "source": [
    "xan view -p matches.csv"
   ]
  },
  {
   "cell_type": "markdown",
   "metadata": {},
   "source": [
    "Pour visualiser les entrées complètes (notamment pour la colonne text) du fichier de sortie :"
   ]
  },
  {
   "cell_type": "code",
   "execution_count": null,
   "metadata": {
    "vscode": {
     "languageId": "shellscript"
    }
   },
   "outputs": [],
   "source": [
    "xan flatten matches.csv"
   ]
  },
  {
   "cell_type": "markdown",
   "metadata": {},
   "source": [
    "## Etape 2 : supprimer les lignes superflues ajoutées au fichier de sortie\n",
    "\n",
    "Comme le filtrage a été fait au moyen d'une boucle, à chaque nouveau dossier année les headers du fichier csv étaient rajoutés dans le fichier de sortie, ce qui a créé des lignes inutiles."
   ]
  },
  {
   "cell_type": "code",
   "execution_count": null,
   "metadata": {
    "vscode": {
     "languageId": "shellscript"
    }
   },
   "outputs": [],
   "source": [
    "xan search -v -s uniqueid uniqueid -e matches.csv | xan sort -s year > result.csv"
   ]
  },
  {
   "cell_type": "markdown",
   "metadata": {},
   "source": [
    "## Etape 3 : vérifier le nombre de colonnes présentes dans le csv et que les lignes inutiles ont bien été supprimées"
   ]
  },
  {
   "cell_type": "code",
   "execution_count": null,
   "metadata": {
    "vscode": {
     "languageId": "shellscript"
    }
   },
   "outputs": [],
   "source": [
    "xan count result.csv"
   ]
  },
  {
   "cell_type": "markdown",
   "metadata": {},
   "source": [
    "## Etape 4 : créer un échantillon de result.csv pour préparer l'annotation manuelle des résultats\n",
    "\n",
    "On génère un échantillon de 250 lignes représentatives du fichier entier."
   ]
  },
  {
   "cell_type": "code",
   "execution_count": null,
   "metadata": {
    "vscode": {
     "languageId": "shellscript"
    }
   },
   "outputs": [],
   "source": [
    "xan sample 250 result.csv > sample_result.csv"
   ]
  },
  {
   "cell_type": "markdown",
   "metadata": {},
   "source": [
    "## Etape 5 : mélanger les lignes de l'échantillon pour annoter dans un ordre non-chronologique (garantir que l'annotation est représentative même si incomplète)"
   ]
  },
  {
   "cell_type": "code",
   "execution_count": null,
   "metadata": {
    "vscode": {
     "languageId": "shellscript"
    }
   },
   "outputs": [],
   "source": [
    "xan shuffle sample_result.csv > sample_result_shuffled.csv"
   ]
  }
 ],
 "metadata": {
  "language_info": {
   "name": "python"
  }
 },
 "nbformat": 4,
 "nbformat_minor": 2
}
